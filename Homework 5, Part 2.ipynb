{
 "cells": [
  {
   "cell_type": "code",
   "execution_count": null,
   "id": "4ed948c3-4af6-4ea4-9130-d84e6f0c2cf2",
   "metadata": {},
   "outputs": [],
   "source": [
    "# 1) Examine both Open Meteo and Tomorrow and decide which one you'd prefer to use. What drove your decision?\n",
    "# I decided to use Open Meteo because their documentation looks more understandable and they provide a form to customize the URL for the API request."
   ]
  },
  {
   "cell_type": "code",
   "execution_count": 1,
   "id": "5c7656d4-1ca0-4994-a9a0-50487d4e822a",
   "metadata": {},
   "outputs": [],
   "source": [
    "# 2) What is the URL to the documentation? (You don't use code for this one)\n",
    "# https://open-meteo.com/en/docs"
   ]
  },
  {
   "cell_type": "code",
   "execution_count": 4,
   "id": "ec5b1f74-824d-4177-b77e-ce07c335e9e9",
   "metadata": {},
   "outputs": [
    {
     "data": {
      "text/plain": [
       "{'latitude': 51.142,\n",
       " 'longitude': 6.467,\n",
       " 'generationtime_ms': 0.11301040649414062,\n",
       " 'utc_offset_seconds': 7200,\n",
       " 'timezone': 'Europe/Berlin',\n",
       " 'timezone_abbreviation': 'GMT+2',\n",
       " 'elevation': 75.0,\n",
       " 'current_units': {'time': 'iso8601',\n",
       "  'interval': 'seconds',\n",
       "  'temperature_2m': '°C',\n",
       "  'relative_humidity_2m': '%',\n",
       "  'apparent_temperature': '°C',\n",
       "  'is_day': '',\n",
       "  'precipitation': 'mm',\n",
       "  'rain': 'mm',\n",
       "  'showers': 'mm',\n",
       "  'snowfall': 'cm',\n",
       "  'weather_code': 'wmo code',\n",
       "  'cloud_cover': '%',\n",
       "  'pressure_msl': 'hPa',\n",
       "  'surface_pressure': 'hPa',\n",
       "  'wind_speed_10m': 'km/h',\n",
       "  'wind_direction_10m': '°',\n",
       "  'wind_gusts_10m': 'km/h'},\n",
       " 'current': {'time': '2025-06-10T11:30',\n",
       "  'interval': 900,\n",
       "  'temperature_2m': 18.4,\n",
       "  'relative_humidity_2m': 64,\n",
       "  'apparent_temperature': 15.9,\n",
       "  'is_day': 1,\n",
       "  'precipitation': 0.0,\n",
       "  'rain': 0.0,\n",
       "  'showers': 0.0,\n",
       "  'snowfall': 0.0,\n",
       "  'weather_code': 2,\n",
       "  'cloud_cover': 79,\n",
       "  'pressure_msl': 1015.7,\n",
       "  'surface_pressure': 1006.8,\n",
       "  'wind_speed_10m': 24.5,\n",
       "  'wind_direction_10m': 245,\n",
       "  'wind_gusts_10m': 47.5}}"
      ]
     },
     "execution_count": 4,
     "metadata": {},
     "output_type": "execute_result"
    }
   ],
   "source": [
    "# 3) Make a request for the current weather where you are born, or somewhere you've lived.\n",
    "import requests\n",
    "\n",
    "response = requests.get(\"https://api.open-meteo.com/v1/forecast?latitude=51.14&longitude=6.47&current=temperature_2m,relative_humidity_2m,apparent_temperature,is_day,precipitation,rain,showers,snowfall,weather_code,cloud_cover,pressure_msl,surface_pressure,wind_speed_10m,wind_direction_10m,wind_gusts_10m&timezone=auto&start_date=2025-06-10&end_date=2025-06-10\")\n",
    "data_dusseldorf = response.json()\n",
    "data_dusseldorf"
   ]
  },
  {
   "cell_type": "code",
   "execution_count": 5,
   "id": "a92d7161-bfd3-437a-a0ed-db50c8f1762a",
   "metadata": {},
   "outputs": [],
   "source": [
    "# 4) Print out the country this location is in.\n",
    "# This does not seem to work, as there is no key for country and I couldn't find a way to include it."
   ]
  },
  {
   "cell_type": "code",
   "execution_count": 13,
   "id": "e4c191cd-8b02-4175-99ee-6da316e3d515",
   "metadata": {},
   "outputs": [
    {
     "name": "stdout",
     "output_type": "stream",
     "text": [
      "It feels 2.5 degrees colder.\n"
     ]
    }
   ],
   "source": [
    "# 5) Print out the difference between the current temperature and how warm it feels. Use \"It feels ___ degrees colder\" or \"It feels ___ degrees warmer,\" not negative numbers.\n",
    "if data_dusseldorf['current']['apparent_temperature'] > data_dusseldorf['current']['temperature_2m']:\n",
    "    print(f\"It feels {data_dusseldorf['current']['apparent_temperature'] - data_dusseldorf['current']['temperature_2m']:.1f} degrees warmer.\")\n",
    "else: \n",
    "    print(f\"It feels {data_dusseldorf['current']['temperature_2m'] - data_dusseldorf['current']['apparent_temperature']:.1f} degrees colder.\")"
   ]
  },
  {
   "cell_type": "code",
   "execution_count": 17,
   "id": "7488d62a-51f8-4a4b-a939-081a804b0f28",
   "metadata": {},
   "outputs": [
    {
     "data": {
      "text/plain": [
       "{'latitude': 51.48,\n",
       " 'longitude': -0.46000004,\n",
       " 'generationtime_ms': 0.15461444854736328,\n",
       " 'utc_offset_seconds': 3600,\n",
       " 'timezone': 'Europe/London',\n",
       " 'timezone_abbreviation': 'GMT+1',\n",
       " 'elevation': 29.0,\n",
       " 'current_units': {'time': 'iso8601',\n",
       "  'interval': 'seconds',\n",
       "  'temperature_2m': '°C',\n",
       "  'apparent_temperature': '°C',\n",
       "  'relative_humidity_2m': '%',\n",
       "  'is_day': '',\n",
       "  'wind_speed_10m': 'km/h',\n",
       "  'wind_direction_10m': '°',\n",
       "  'wind_gusts_10m': 'km/h',\n",
       "  'rain': 'mm',\n",
       "  'precipitation': 'mm',\n",
       "  'snowfall': 'cm',\n",
       "  'showers': 'mm',\n",
       "  'surface_pressure': 'hPa',\n",
       "  'pressure_msl': 'hPa',\n",
       "  'cloud_cover': '%',\n",
       "  'weather_code': 'wmo code'},\n",
       " 'current': {'time': '2025-06-10T10:30',\n",
       "  'interval': 900,\n",
       "  'temperature_2m': 18.5,\n",
       "  'apparent_temperature': 16.5,\n",
       "  'relative_humidity_2m': 68,\n",
       "  'is_day': 1,\n",
       "  'wind_speed_10m': 19.5,\n",
       "  'wind_direction_10m': 272,\n",
       "  'wind_gusts_10m': 46.1,\n",
       "  'rain': 0.0,\n",
       "  'precipitation': 0.0,\n",
       "  'snowfall': 0.0,\n",
       "  'showers': 0.0,\n",
       "  'surface_pressure': 1012.5,\n",
       "  'pressure_msl': 1015.9,\n",
       "  'cloud_cover': 100,\n",
       "  'weather_code': 3}}"
      ]
     },
     "execution_count": 17,
     "metadata": {},
     "output_type": "execute_result"
    }
   ],
   "source": [
    "# 6) What's the current temperature at Heathrow International Airport? Use the airport's IATA code to search.\n",
    "# It's not possible to include the IATA code directly into the URL but it lets you search in the form with the code and finds the correct location this way.\n",
    "import requests\n",
    "\n",
    "response = requests.get(\"https://api.open-meteo.com/v1/forecast?latitude=51.4712&longitude=-0.4565&current=temperature_2m,apparent_temperature,relative_humidity_2m,is_day,wind_speed_10m,wind_direction_10m,wind_gusts_10m,rain,precipitation,snowfall,showers,surface_pressure,pressure_msl,cloud_cover,weather_code&timezone=auto&forecast_days=1\")\n",
    "data_lhr = response.json()\n",
    "data_lhr"
   ]
  },
  {
   "cell_type": "code",
   "execution_count": 18,
   "id": "b59ffe32-350b-4558-9d45-1a43bf029c39",
   "metadata": {},
   "outputs": [],
   "source": [
    "# 7) What URL would I use to request a 3-day forecast at Heathrow?\n",
    "# https://api.open-meteo.com/v1/forecast?latitude=51.4712&longitude=-0.4565&daily=temperature_2m_max,weather_code,temperature_2m_min,apparent_temperature_max,apparent_temperature_min,wind_speed_10m_max,precipitation_probability_max,precipitation_hours,snowfall_sum,precipitation_sum,sunshine_duration,daylight_duration,uv_index_max,showers_sum,rain_sum,sunrise,sunset,uv_index_clear_sky_max,wind_gusts_10m_max,wind_direction_10m_dominant,shortwave_radiation_sum,et0_fao_evapotranspiration&timezone=auto&forecast_days=3"
   ]
  },
  {
   "cell_type": "code",
   "execution_count": 19,
   "id": "904895aa-1d41-4731-ac0c-7f176fad10dc",
   "metadata": {},
   "outputs": [
    {
     "data": {
      "text/plain": [
       "{'latitude': 51.48,\n",
       " 'longitude': -0.46000004,\n",
       " 'generationtime_ms': 0.30243396759033203,\n",
       " 'utc_offset_seconds': 3600,\n",
       " 'timezone': 'Europe/London',\n",
       " 'timezone_abbreviation': 'GMT+1',\n",
       " 'elevation': 29.0,\n",
       " 'daily_units': {'time': 'iso8601',\n",
       "  'temperature_2m_max': '°C',\n",
       "  'weather_code': 'wmo code',\n",
       "  'temperature_2m_min': '°C',\n",
       "  'apparent_temperature_max': '°C',\n",
       "  'apparent_temperature_min': '°C',\n",
       "  'wind_speed_10m_max': 'km/h',\n",
       "  'precipitation_probability_max': '%',\n",
       "  'precipitation_hours': 'h',\n",
       "  'snowfall_sum': 'cm',\n",
       "  'precipitation_sum': 'mm',\n",
       "  'sunshine_duration': 's',\n",
       "  'daylight_duration': 's',\n",
       "  'uv_index_max': '',\n",
       "  'showers_sum': 'mm',\n",
       "  'rain_sum': 'mm',\n",
       "  'sunrise': 'iso8601',\n",
       "  'sunset': 'iso8601',\n",
       "  'uv_index_clear_sky_max': '',\n",
       "  'wind_gusts_10m_max': 'km/h',\n",
       "  'wind_direction_10m_dominant': '°',\n",
       "  'shortwave_radiation_sum': 'MJ/m²',\n",
       "  'et0_fao_evapotranspiration': 'mm'},\n",
       " 'daily': {'time': ['2025-06-10', '2025-06-11', '2025-06-12'],\n",
       "  'temperature_2m_max': [22.3, 24.3, 23.0],\n",
       "  'weather_code': [3, 3, 80],\n",
       "  'temperature_2m_min': [12.9, 13.1, 14.5],\n",
       "  'apparent_temperature_max': [20.6, 23.6, 22.9],\n",
       "  'apparent_temperature_min': [10.7, 12.3, 12.9],\n",
       "  'wind_speed_10m_max': [22.0, 18.7, 17.3],\n",
       "  'precipitation_probability_max': [0, 0, 50],\n",
       "  'precipitation_hours': [0.0, 0.0, 3.0],\n",
       "  'snowfall_sum': [0.0, 0.0, 0.0],\n",
       "  'precipitation_sum': [0.0, 0.0, 0.5],\n",
       "  'sunshine_duration': [35442.86, 52906.93, 40675.16],\n",
       "  'daylight_duration': [59540.36, 59601.77, 59657.23],\n",
       "  'uv_index_max': [5.15, 7.0, 6.25],\n",
       "  'showers_sum': [0.0, 0.0, 0.4],\n",
       "  'rain_sum': [0.0, 0.0, 0.1],\n",
       "  'sunrise': ['2025-06-10T04:45', '2025-06-11T04:44', '2025-06-12T04:44'],\n",
       "  'sunset': ['2025-06-10T21:17', '2025-06-11T21:18', '2025-06-12T21:18'],\n",
       "  'uv_index_clear_sky_max': [6.9, 7.0, 6.9],\n",
       "  'wind_gusts_10m_max': [48.2, 38.5, 41.0],\n",
       "  'wind_direction_10m_dominant': [272, 112, 128],\n",
       "  'shortwave_radiation_sum': [15.43, 24.98, 17.57],\n",
       "  'et0_fao_evapotranspiration': [3.48, 4.94, 3.74]}}"
      ]
     },
     "execution_count": 19,
     "metadata": {},
     "output_type": "execute_result"
    }
   ],
   "source": [
    "# 8) Print the date of each of the 3 days you're getting a forecast for.\n",
    "import requests\n",
    "\n",
    "response = requests.get(\"https://api.open-meteo.com/v1/forecast?latitude=51.4712&longitude=-0.4565&daily=temperature_2m_max,weather_code,temperature_2m_min,apparent_temperature_max,apparent_temperature_min,wind_speed_10m_max,precipitation_probability_max,precipitation_hours,snowfall_sum,precipitation_sum,sunshine_duration,daylight_duration,uv_index_max,showers_sum,rain_sum,sunrise,sunset,uv_index_clear_sky_max,wind_gusts_10m_max,wind_direction_10m_dominant,shortwave_radiation_sum,et0_fao_evapotranspiration&timezone=auto&forecast_days=3\")\n",
    "forecast_lhr = response.json()\n",
    "forecast_lhr"
   ]
  },
  {
   "cell_type": "code",
   "execution_count": 24,
   "id": "7cafa2a1-0207-4140-8cee-5d3a279575d0",
   "metadata": {},
   "outputs": [
    {
     "data": {
      "text/plain": [
       "['2025-06-10', '2025-06-11', '2025-06-12']"
      ]
     },
     "execution_count": 24,
     "metadata": {},
     "output_type": "execute_result"
    }
   ],
   "source": [
    "forecast_lhr['daily']['time']"
   ]
  },
  {
   "cell_type": "code",
   "execution_count": 28,
   "id": "405c9379-42e5-4dc1-b3e7-b0fa85f2ceed",
   "metadata": {},
   "outputs": [
    {
     "data": {
      "text/plain": [
       "[22.3, 24.3, 23.0]"
      ]
     },
     "execution_count": 28,
     "metadata": {},
     "output_type": "execute_result"
    }
   ],
   "source": [
    "# 9) Print the maximum temperature of each of the days.\n",
    "forecast_lhr['daily']['temperature_2m_max']"
   ]
  },
  {
   "cell_type": "code",
   "execution_count": 35,
   "id": "f67a106b-06a1-4dfb-b4d5-3823e1ae6476",
   "metadata": {},
   "outputs": [
    {
     "name": "stdout",
     "output_type": "stream",
     "text": [
      "The maximum temperature on 2025-06-10 is 22.3 degrees celsius.\n",
      "The maximum temperature on 2025-06-11 is 24.3 degrees celsius.\n",
      "The maximum temperature on 2025-06-12 is 23.0 degrees celsius.\n"
     ]
    }
   ],
   "source": [
    "print(f\"The maximum temperature on {forecast_lhr['daily']['time'][0]} is {forecast_lhr['daily']['temperature_2m_max'][0]} degrees celsius.\")\n",
    "print(f\"The maximum temperature on {forecast_lhr['daily']['time'][1]} is {forecast_lhr['daily']['temperature_2m_max'][1]} degrees celsius.\")\n",
    "print(f\"The maximum temperature on {forecast_lhr['daily']['time'][2]} is {forecast_lhr['daily']['temperature_2m_max'][2]} degrees celsius.\")"
   ]
  },
  {
   "cell_type": "code",
   "execution_count": 36,
   "id": "c4bb4e9f-36d2-4835-a897-4dbf64e8bf92",
   "metadata": {},
   "outputs": [
    {
     "data": {
      "text/plain": [
       "24.3"
      ]
     },
     "execution_count": 36,
     "metadata": {},
     "output_type": "execute_result"
    }
   ],
   "source": [
    "# 10) Print only the day with the highest maximum temperature.\n",
    "max(forecast_lhr['daily']['temperature_2m_max'])"
   ]
  },
  {
   "cell_type": "code",
   "execution_count": 37,
   "id": "ab845d63-32e7-40cc-a61d-0dca55a6a9e5",
   "metadata": {},
   "outputs": [
    {
     "data": {
      "text/plain": [
       "'The day with the highest temperature is June 11 with a temperature of 24.3 degrees celsius.'"
      ]
     },
     "execution_count": 37,
     "metadata": {},
     "output_type": "execute_result"
    }
   ],
   "source": [
    "f\"The day with the highest temperature is June 11 with a temperature of {max(forecast_lhr['daily']['temperature_2m_max'])} degrees celsius.\""
   ]
  },
  {
   "cell_type": "code",
   "execution_count": null,
   "id": "975d59c0-d832-451e-b6f6-f8c4bcfc1157",
   "metadata": {},
   "outputs": [],
   "source": [
    "# 11) Did you find this easier or more difficult than using the weatherapi.com, and why? Which would you recommend to someone interesting in building a tool around weather information?"
   ]
  },
  {
   "cell_type": "code",
   "execution_count": 41,
   "id": "68ea6632-c54d-4567-bdc1-b396cbdd37f3",
   "metadata": {},
   "outputs": [],
   "source": [
    "# Due to the different organization, it is much easier to gain an overview of the data and access the different layers, however, I found it more difficult to print out correlations between dates and temperature so I cheated a little. I suppose that there is a better way to do this though and this is only due to my limited skill level... :D\n",
    "# I like that there are a lot of options to customize the URl so it is possible to extract precisely the data you need. \n",
    "# A downside for me is that it doesn't show the location name and country anywhere so it's not possible to check whether you entered the correct coordinates. \n",
    "# For a tool that focuses on very specific weather information (e.g. precipitation only) I guess Open Meteo could be more useful, for a broader tool that incorporates many aspects I think I would recommend Weather API because it is quite cumbersome clicking all the different boxes in Open Meteo. I also found the variables in Weather API to be more intuitive (I had to look up what they meant with \"Temperature 2m\" in Open Meteo)."
   ]
  }
 ],
 "metadata": {
  "kernelspec": {
   "display_name": "Python 3 (ipykernel)",
   "language": "python",
   "name": "python3"
  },
  "language_info": {
   "codemirror_mode": {
    "name": "ipython",
    "version": 3
   },
   "file_extension": ".py",
   "mimetype": "text/x-python",
   "name": "python",
   "nbconvert_exporter": "python",
   "pygments_lexer": "ipython3",
   "version": "3.12.10"
  }
 },
 "nbformat": 4,
 "nbformat_minor": 5
}
